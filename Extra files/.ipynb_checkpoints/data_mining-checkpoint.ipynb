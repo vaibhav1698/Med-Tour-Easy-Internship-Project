{
 "cells": [
  {
   "cell_type": "code",
   "execution_count": 1,
   "metadata": {},
   "outputs": [],
   "source": [
    "# Load the required libraries\n",
    "import pandas as pd\n",
    "import seaborn as sns\n",
    "import numpy as np\n",
    "import matplotlib.pyplot as plt\n",
    "from sklearn.cluster import KMeans\n",
    "from sklearn.preprocessing import StandardScaler\n",
    "from sklearn.decomposition import PCA\n",
    "import prince"
   ]
  },
  {
   "cell_type": "code",
   "execution_count": 2,
   "metadata": {},
   "outputs": [
    {
     "name": "stdout",
     "output_type": "stream",
     "text": [
      "(11914, 16) \n",
      "\n",
      "<bound method DataFrame.info of           Make       Model  Year                Engine Fuel Type  Engine HP  \\\n",
      "0          BMW  1 Series M  2011     premium unleaded (required)      335.0   \n",
      "1          BMW    1 Series  2011     premium unleaded (required)      300.0   \n",
      "2          BMW    1 Series  2011     premium unleaded (required)      300.0   \n",
      "3          BMW    1 Series  2011     premium unleaded (required)      230.0   \n",
      "4          BMW    1 Series  2011     premium unleaded (required)      230.0   \n",
      "...        ...         ...   ...                             ...        ...   \n",
      "11909    Acura         ZDX  2012     premium unleaded (required)      300.0   \n",
      "11910    Acura         ZDX  2012     premium unleaded (required)      300.0   \n",
      "11911    Acura         ZDX  2012     premium unleaded (required)      300.0   \n",
      "11912    Acura         ZDX  2013  premium unleaded (recommended)      300.0   \n",
      "11913  Lincoln      Zephyr  2006                regular unleaded      221.0   \n",
      "\n",
      "       Engine Cylinders Transmission Type      Driven_Wheels  Number of Doors  \\\n",
      "0                   6.0            MANUAL   rear wheel drive              2.0   \n",
      "1                   6.0            MANUAL   rear wheel drive              2.0   \n",
      "2                   6.0            MANUAL   rear wheel drive              2.0   \n",
      "3                   6.0            MANUAL   rear wheel drive              2.0   \n",
      "4                   6.0            MANUAL   rear wheel drive              2.0   \n",
      "...                 ...               ...                ...              ...   \n",
      "11909               6.0         AUTOMATIC    all wheel drive              4.0   \n",
      "11910               6.0         AUTOMATIC    all wheel drive              4.0   \n",
      "11911               6.0         AUTOMATIC    all wheel drive              4.0   \n",
      "11912               6.0         AUTOMATIC    all wheel drive              4.0   \n",
      "11913               6.0         AUTOMATIC  front wheel drive              4.0   \n",
      "\n",
      "                             Market Category Vehicle Size  Vehicle Style  \\\n",
      "0      Factory Tuner,Luxury,High-Performance      Compact          Coupe   \n",
      "1                         Luxury,Performance      Compact    Convertible   \n",
      "2                    Luxury,High-Performance      Compact          Coupe   \n",
      "3                         Luxury,Performance      Compact          Coupe   \n",
      "4                                     Luxury      Compact    Convertible   \n",
      "...                                      ...          ...            ...   \n",
      "11909             Crossover,Hatchback,Luxury      Midsize  4dr Hatchback   \n",
      "11910             Crossover,Hatchback,Luxury      Midsize  4dr Hatchback   \n",
      "11911             Crossover,Hatchback,Luxury      Midsize  4dr Hatchback   \n",
      "11912             Crossover,Hatchback,Luxury      Midsize  4dr Hatchback   \n",
      "11913                                 Luxury      Midsize          Sedan   \n",
      "\n",
      "       highway MPG  city mpg  Popularity   MSRP  \n",
      "0               26        19        3916  46135  \n",
      "1               28        19        3916  40650  \n",
      "2               28        20        3916  36350  \n",
      "3               28        18        3916  29450  \n",
      "4               28        18        3916  34500  \n",
      "...            ...       ...         ...    ...  \n",
      "11909           23        16         204  46120  \n",
      "11910           23        16         204  56670  \n",
      "11911           23        16         204  50620  \n",
      "11912           23        16         204  50920  \n",
      "11913           26        17          61  28995  \n",
      "\n",
      "[11914 rows x 16 columns]> \n",
      "\n",
      "               Year    Engine HP  Engine Cylinders  Number of Doors  \\\n",
      "count  11914.000000  11845.00000      11884.000000     11908.000000   \n",
      "mean    2010.384338    249.38607          5.628829         3.436093   \n",
      "std        7.579740    109.19187          1.780559         0.881315   \n",
      "min     1990.000000     55.00000          0.000000         2.000000   \n",
      "25%     2007.000000    170.00000          4.000000         2.000000   \n",
      "50%     2015.000000    227.00000          6.000000         4.000000   \n",
      "75%     2016.000000    300.00000          6.000000         4.000000   \n",
      "max     2017.000000   1001.00000         16.000000         4.000000   \n",
      "\n",
      "        highway MPG      city mpg    Popularity          MSRP  \n",
      "count  11914.000000  11914.000000  11914.000000  1.191400e+04  \n",
      "mean      26.637485     19.733255   1554.911197  4.059474e+04  \n",
      "std        8.863001      8.987798   1441.855347  6.010910e+04  \n",
      "min       12.000000      7.000000      2.000000  2.000000e+03  \n",
      "25%       22.000000     16.000000    549.000000  2.100000e+04  \n",
      "50%       26.000000     18.000000   1385.000000  2.999500e+04  \n",
      "75%       30.000000     22.000000   2009.000000  4.223125e+04  \n",
      "max      354.000000    137.000000   5657.000000  2.065902e+06   \n",
      "\n",
      "Make 48\n",
      "Model 915\n",
      "Year 28\n",
      "Engine Fuel Type 10\n",
      "Engine HP 356\n",
      "Engine Cylinders 9\n",
      "Transmission Type 5\n",
      "Driven_Wheels 4\n",
      "Number of Doors 3\n",
      "Market Category 71\n",
      "Vehicle Size 3\n",
      "Vehicle Style 16\n",
      "highway MPG 59\n",
      "city mpg 69\n",
      "Popularity 48\n",
      "MSRP 6049\n"
     ]
    }
   ],
   "source": [
    "# Task 1 - Load a dataset and extract basic information \n",
    "df = pd.read_csv(\"data.csv\")\n",
    "print(df.shape, \"\\n\")\n",
    "print(df.info, \"\\n\")\n",
    "print(df.describe(), \"\\n\")\n",
    "for col in df:\n",
    "    print(col + ' ' + str(df[col].nunique()))"
   ]
  },
  {
   "cell_type": "code",
   "execution_count": 3,
   "metadata": {},
   "outputs": [
    {
     "name": "stdout",
     "output_type": "stream",
     "text": [
      "MANUAL\n",
      "MANUAL \n"
     ]
    }
   ],
   "source": [
    "# Task 2 - Clean your data set\n",
    "# If you are starting from this task, you can run cells from all previous tasks in \n",
    "# the kernel by going to Kernel > Restart and Run All\n",
    "print(df.iloc[0,6])\n",
    "df.iloc[0,6] = df.iloc[0,6] + ' '\n",
    "print(df.iloc[0,6])"
   ]
  },
  {
   "cell_type": "code",
   "execution_count": 4,
   "metadata": {},
   "outputs": [
    {
     "name": "stdout",
     "output_type": "stream",
     "text": [
      "Transmission Type\n",
      "AUTOMATED_MANUAL     626\n",
      "AUTOMATIC           8266\n",
      "DIRECT_DRIVE          68\n",
      "MANUAL              2934\n",
      "MANUAL                 1\n",
      "UNKNOWN               19\n",
      "dtype: int64 \n",
      "\n"
     ]
    },
    {
     "data": {
      "text/plain": [
       "AUTOMATIC           8266\n",
       "MANUAL              2934\n",
       "AUTOMATED_MANUAL     626\n",
       "DIRECT_DRIVE          68\n",
       "UNKNOWN               19\n",
       "MANUAL                 1\n",
       "Name: Transmission Type, dtype: int64"
      ]
     },
     "execution_count": 4,
     "metadata": {},
     "output_type": "execute_result"
    }
   ],
   "source": [
    "print(df.groupby(['Transmission Type']).size(), \"\\n\")\n",
    "df['Transmission Type'].value_counts()"
   ]
  },
  {
   "cell_type": "code",
   "execution_count": 5,
   "metadata": {},
   "outputs": [
    {
     "data": {
      "text/plain": [
       "AUTOMATIC           8266\n",
       "MANUAL              2935\n",
       "AUTOMATED_MANUAL     626\n",
       "DIRECT_DRIVE          68\n",
       "UNKNOWN               19\n",
       "Name: Transmission Type, dtype: int64"
      ]
     },
     "execution_count": 5,
     "metadata": {},
     "output_type": "execute_result"
    }
   ],
   "source": [
    "df = df.apply(lambda x: x.str.strip() if x.dtype=='object' else x)\n",
    "df['Transmission Type'].value_counts()"
   ]
  },
  {
   "cell_type": "code",
   "execution_count": 8,
   "metadata": {},
   "outputs": [
    {
     "name": "stdout",
     "output_type": "stream",
     "text": [
      "Make                 0.000000\n",
      "Model                0.000000\n",
      "Year                 0.000000\n",
      "Engine Fuel Type     0.000252\n",
      "Engine HP            0.005792\n",
      "Engine Cylinders     0.002518\n",
      "Transmission Type    0.000000\n",
      "Driven_Wheels        0.000000\n",
      "Number of Doors      0.000504\n",
      "Market Category      0.314084\n",
      "Vehicle Size         0.000000\n",
      "Vehicle Style        0.000000\n",
      "highway MPG          0.000000\n",
      "city mpg             0.000000\n",
      "Popularity           0.000000\n",
      "MSRP                 0.000000\n",
      "dtype: float64\n"
     ]
    },
    {
     "data": {
      "image/png": "[encoded data removed]",
      "text/plain": [
       "<Figure size 432x288 with 1 Axes>"
      ]
     },
     "metadata": {
      "needs_background": "light"
     },
     "output_type": "display_data"
    }
   ],
   "source": [
    "print(df.isna().mean())\n",
    "df.isna().mean().plot(kind='barh')\n",
    "df=df.loc[:, df.isna().mean() < .3]"
   ]
  },
  {
   "cell_type": "code",
   "execution_count": 9,
   "metadata": {},
   "outputs": [
    {
     "name": "stdout",
     "output_type": "stream",
     "text": [
      "<class 'pandas.core.frame.DataFrame'>\n",
      "Int64Index: 11812 entries, 0 to 11913\n",
      "Data columns (total 15 columns):\n",
      " #   Column             Non-Null Count  Dtype  \n",
      "---  ------             --------------  -----  \n",
      " 0   Make               11812 non-null  object \n",
      " 1   Model              11812 non-null  object \n",
      " 2   Year               11812 non-null  int64  \n",
      " 3   Engine Fuel Type   11812 non-null  object \n",
      " 4   Engine HP          11812 non-null  float64\n",
      " 5   Engine Cylinders   11812 non-null  float64\n",
      " 6   Transmission Type  11812 non-null  object \n",
      " 7   Driven_Wheels      11812 non-null  object \n",
      " 8   Number of Doors    11812 non-null  float64\n",
      " 9   Vehicle Size       11812 non-null  object \n",
      " 10  Vehicle Style      11812 non-null  object \n",
      " 11  highway MPG        11812 non-null  int64  \n",
      " 12  city mpg           11812 non-null  int64  \n",
      " 13  Popularity         11812 non-null  int64  \n",
      " 14  MSRP               11812 non-null  int64  \n",
      "dtypes: float64(3), int64(5), object(7)\n",
      "memory usage: 1.4+ MB\n"
     ]
    }
   ],
   "source": [
    "df=df.replace('NA', np.nan)\n",
    "df=df.dropna()\n",
    "df.info()"
   ]
  },
  {
   "cell_type": "code",
   "execution_count": null,
   "metadata": {},
   "outputs": [],
   "source": []
  },
  {
   "cell_type": "code",
   "execution_count": null,
   "metadata": {},
   "outputs": [],
   "source": [
    "# Task 3 - Visualize patterns and outliers in your data set\n",
    "# If you are starting from this task, you can run cells from all previous tasks in \n",
    "# the kernel by going to Kernel > Restart and Run All\n"
   ]
  },
  {
   "cell_type": "code",
   "execution_count": null,
   "metadata": {},
   "outputs": [],
   "source": []
  },
  {
   "cell_type": "code",
   "execution_count": null,
   "metadata": {},
   "outputs": [],
   "source": []
  },
  {
   "cell_type": "code",
   "execution_count": null,
   "metadata": {},
   "outputs": [],
   "source": []
  },
  {
   "cell_type": "code",
   "execution_count": null,
   "metadata": {},
   "outputs": [],
   "source": [
    "# Task 4 - Find and visualize correlations in your data set\n",
    "# If you are starting from this task, you can run cells from all previous tasks in \n",
    "# the kernel by going to Kernel > Restart and Run All\n"
   ]
  },
  {
   "cell_type": "code",
   "execution_count": null,
   "metadata": {},
   "outputs": [],
   "source": []
  },
  {
   "cell_type": "code",
   "execution_count": null,
   "metadata": {},
   "outputs": [],
   "source": [
    "# Task 5 - Cluster your data set to identify similar groups\n",
    "# If you are starting from this task, you can run cells from all previous tasks in \n",
    "# the kernel by going to Kernel > Restart and Run All\n"
   ]
  },
  {
   "cell_type": "code",
   "execution_count": null,
   "metadata": {},
   "outputs": [],
   "source": []
  },
  {
   "cell_type": "code",
   "execution_count": null,
   "metadata": {},
   "outputs": [],
   "source": [
    "# Task 6 - Visualize your data set with principal component analysis (PCA)\n",
    "# If you are starting from this task, you can run cells from all previous tasks in \n",
    "# the kernel by going to Kernel > Restart and Run All\n"
   ]
  },
  {
   "cell_type": "code",
   "execution_count": null,
   "metadata": {},
   "outputs": [],
   "source": []
  }
 ],
 "metadata": {
  "kernelspec": {
   "display_name": "Python 3",
   "language": "python",
   "name": "python3"
  },
  "language_info": {
   "codemirror_mode": {
    "name": "ipython",
    "version": 3
   },
   "file_extension": ".py",
   "mimetype": "text/x-python",
   "name": "python",
   "nbconvert_exporter": "python",
   "pygments_lexer": "ipython3",
   "version": "3.7.6"
  }
 },
 "nbformat": 4,
 "nbformat_minor": 4
}
